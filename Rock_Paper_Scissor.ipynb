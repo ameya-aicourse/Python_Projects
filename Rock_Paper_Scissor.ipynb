{
 "cells": [
  {
   "cell_type": "code",
   "execution_count": 21,
   "metadata": {},
   "outputs": [
    {
     "name": "stdout",
     "output_type": "stream",
     "text": [
      "Please enter any one of rock, paper or scissors: rock\n",
      "Computer:  scissors\n",
      "Player's Choice:  rock\n",
      "You Win!!\n",
      "Play Again ? (Yes/No): yes\n",
      "Please enter any one of rock, paper or scissors: paper\n",
      "Computer:  rock\n",
      "Player's Choice:  paper\n",
      "You Win!!\n",
      "Play Again ? (Yes/No): no\n",
      "See you Again, Bye !!\n"
     ]
    }
   ],
   "source": [
    "import random\n",
    "\n",
    "while True: \n",
    "    choices =['rock','paper','scissors']\n",
    "    computer= random.choice(choices)\n",
    "    # print( \"Computer: \",computer)\n",
    "\n",
    "    player=None\n",
    "\n",
    "    while player not in choices:\n",
    "        player=input(\"Please enter any one of rock, paper or scissors: \").lower()\n",
    "        # print(\"Player's Choice: \",player)\n",
    "\n",
    "\n",
    "    if player==computer:\n",
    "        print( \"Computer: \",computer)\n",
    "        print(\"Player's Choice: \",player)\n",
    "        print(\"its a Tie\")\n",
    "    \n",
    "    elif player==\"rock\":\n",
    "        if computer==\"paper\":\n",
    "            print( \"Computer: \",computer)\n",
    "            print(\"Player's Choice: \",player)\n",
    "            print(\"Computer Wins!!\")\n",
    "        if computer==\"scissors\":\n",
    "            print( \"Computer: \",computer)\n",
    "            print(\"Player's Choice: \",player)\n",
    "            print(\"You Win!!\")\n",
    "        \n",
    "    elif player==\"paper\":\n",
    "        if computer==\"scissors\":\n",
    "            print( \"Computer: \",computer)\n",
    "            print(\"Player's Choice: \",player)\n",
    "            print(\"Computer Wins!!\")\n",
    "        if computer==\"rock\":\n",
    "            print( \"Computer: \",computer)\n",
    "            print(\"Player's Choice: \",player)\n",
    "            print(\"You Win!!\")\n",
    "        \n",
    "    elif player==\"scissors\":\n",
    "        if computer==\"rock\":\n",
    "            print( \"Computer: \",computer)\n",
    "            print(\"Player's Choice: \",player)\n",
    "            print(\"Computer Wins!!\")\n",
    "        if computer==\"paper\":\n",
    "            print( \"Computer: \",computer)\n",
    "            print(\"Player's Choice: \",player)\n",
    "            print(\"You Win!!\")\n",
    "            \n",
    "    play_again=input(\"Play Again ? (Yes/No): \").lower()\n",
    "    if play_again=='no':\n",
    "        break\n",
    "        \n",
    "print (\"See you Again, Bye !!\")"
   ]
  },
  {
   "cell_type": "code",
   "execution_count": null,
   "metadata": {},
   "outputs": [],
   "source": []
  },
  {
   "cell_type": "code",
   "execution_count": null,
   "metadata": {},
   "outputs": [],
   "source": []
  }
 ],
 "metadata": {
  "kernelspec": {
   "display_name": "Python 3",
   "language": "python",
   "name": "python3"
  },
  "language_info": {
   "codemirror_mode": {
    "name": "ipython",
    "version": 3
   },
   "file_extension": ".py",
   "mimetype": "text/x-python",
   "name": "python",
   "nbconvert_exporter": "python",
   "pygments_lexer": "ipython3",
   "version": "3.8.5"
  }
 },
 "nbformat": 4,
 "nbformat_minor": 4
}
